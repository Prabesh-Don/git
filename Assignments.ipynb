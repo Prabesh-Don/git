{
 "cells": [
  {
   "cell_type": "markdown",
   "metadata": {},
   "source": [
    "Assignments: Python Fundamentals "
   ]
  },
  {
   "cell_type": "markdown",
   "metadata": {},
   "source": [
    "\n",
    "\n",
    "\n",
    "Section 1: Conditional Statement"
   ]
  },
  {
   "cell_type": "markdown",
   "metadata": {},
   "source": [
    "1. Write a program that asks the user to enter a number and checks whether the number is even or odd.\n"
   ]
  },
  {
   "cell_type": "code",
   "execution_count": 4,
   "metadata": {},
   "outputs": [
    {
     "name": "stdout",
     "output_type": "stream",
     "text": [
      "8 is even.\n"
     ]
    }
   ],
   "source": [
    "number = int(input(\"Enter a number: \"))\n",
    "\n",
    "if number % 2 == 0:\n",
    "    print(f\"{number} is even.\")\n",
    "else:\n",
    "    print(f\"{number} is odd.\")\n"
   ]
  },
  {
   "cell_type": "markdown",
   "metadata": {},
   "source": [
    "2. Write a program that asks the user to enter a number and checks whether it is positive, negative, or zero.\n",
    "\n"
   ]
  },
  {
   "cell_type": "code",
   "execution_count": 5,
   "metadata": {},
   "outputs": [
    {
     "name": "stdout",
     "output_type": "stream",
     "text": [
      "5.0 is positive.\n"
     ]
    }
   ],
   "source": [
    "number = float(input(\"Enter a number: \"))\n",
    "\n",
    "if number > 0:\n",
    "    print(f\"{number} is positive.\")\n",
    "elif number < 0:\n",
    "    print(f\"{number} is negative.\")\n",
    "else:\n",
    "    print(\"The number is zero.\")"
   ]
  },
  {
   "cell_type": "markdown",
   "metadata": {},
   "source": [
    " 3. Write a program that asks the user to enter their age and checks if they are eligible to vote (18 years or older).\n",
    "\n"
   ]
  },
  {
   "cell_type": "code",
   "execution_count": 8,
   "metadata": {},
   "outputs": [
    {
     "name": "stdout",
     "output_type": "stream",
     "text": [
      "You are eligible to vote.\n"
     ]
    }
   ],
   "source": [
    "age = int(input(\"Enter your age: \"))\n",
    "\n",
    "if age >= 18:\n",
    "    print(\"You are eligible to vote.\")\n",
    "else:\n",
    "    print(\"You are not eligible to vote.\")"
   ]
  },
  {
   "cell_type": "markdown",
   "metadata": {},
   "source": [
    "4. Write a program that takes the lengths of three sides of a triangle as input and determines if the triangle is:\n",
    "     \n",
    "    <br>○ Equilateral (all sides are equal)\n",
    "   <br> ○ Isosceles (two sides are equal)\n",
    "   <br> ○ Scalene (all sides are different)\n",
    "   </br>\n"
   ]
  },
  {
   "cell_type": "code",
   "execution_count": 10,
   "metadata": {},
   "outputs": [
    {
     "name": "stdout",
     "output_type": "stream",
     "text": [
      "The triangle is Scalene.\n"
     ]
    }
   ],
   "source": [
    "sideX = float(input(\"Enter the length of the first side: \"))\n",
    "sideY = float(input(\"Enter the length of the second side: \"))\n",
    "sideZ = float(input(\"Enter the length of the third side: \"))\n",
    "\n",
    "if sideX == sideY == sideZ:\n",
    "    print(\"The triangle is Equilateral.\")\n",
    "elif sideX == sideY or sideY == sideZ or sideX == sideZ:\n",
    "    print(\"The triangle is Isosceles.\")\n",
    "else:\n",
    "    print(\"The triangle is Scalene.\")"
   ]
  },
  {
   "cell_type": "markdown",
   "metadata": {},
   "source": [
    "5. Write a program that asks the user to enter a password and checks if it matches a predefined password (e.g., \"Python123\").\n"
   ]
  },
  {
   "cell_type": "code",
   "execution_count": 4,
   "metadata": {},
   "outputs": [
    {
     "name": "stdout",
     "output_type": "stream",
     "text": [
      "Password is correct.\n"
     ]
    }
   ],
   "source": [
    "password = input(\"Enter your password: \")\n",
    "\n",
    "if password == \"Prabesh@5881\":\n",
    "    print(\"Password is correct.\")\n",
    "else:\n",
    "    print(\"Password is incorrect.\")"
   ]
  },
  {
   "cell_type": "markdown",
   "metadata": {},
   "source": [
    "\n",
    "\n",
    "\n",
    "Section 2: For Loops "
   ]
  },
  {
   "cell_type": "markdown",
   "metadata": {},
   "source": [
    "6. Multiplication Table: Write a Python program to print the \n",
    "multiplication table of a given number using a for loop. <br>\n",
    "Example:<br>\n",
    "○ Input: 5<br>\n",
    "○ Output: 5, 10, 15, ..., 50"
   ]
  },
  {
   "cell_type": "code",
   "execution_count": 20,
   "metadata": {},
   "outputs": [
    {
     "name": "stdout",
     "output_type": "stream",
     "text": [
      "7, 14, 21, 28, 35, 42, 49, 56, 63, 70"
     ]
    }
   ],
   "source": [
    "number = int(input(\"Enter a number: \"))\n",
    "\n",
    "for i in range(1, 11):\n",
    "    print(number * i, end=\", \" if i < 10 else \"\")"
   ]
  },
  {
   "cell_type": "markdown",
   "metadata": {},
   "source": [
    "7. Count Vowels: Write a program to count and display the number of vowels in a given string."
   ]
  },
  {
   "cell_type": "code",
   "execution_count": 17,
   "metadata": {},
   "outputs": [
    {
     "name": "stdout",
     "output_type": "stream",
     "text": [
      "The number of vowels in the string is: 2\n"
     ]
    }
   ],
   "source": [
    "string = input(\"Enter a string: \")\n",
    "\n",
    "vowels = \"aeiouAEIOU\"\n",
    "count = 0\n",
    "\n",
    "for char in string:\n",
    "    if char in vowels:\n",
    "        count += 1\n",
    "\n",
    "print(f\"The number of vowels in the string is: {count}\")"
   ]
  },
  {
   "cell_type": "markdown",
   "metadata": {},
   "source": [
    "8. Sum of Even Numbers Create a program to find the sum of all even \n",
    "numbers in a list using a for loop.<br>\n",
    "Example:<br>\n",
    "○ Input: [2, 5, 8, 3]<br>\n",
    "○ Output: 10"
   ]
  },
  {
   "cell_type": "code",
   "execution_count": 21,
   "metadata": {},
   "outputs": [
    {
     "name": "stdout",
     "output_type": "stream",
     "text": [
      "The sum of even numbers in the list is: 10\n"
     ]
    }
   ],
   "source": [
    "numbers = [2, 5, 2, 6, 3]\n",
    "sum_of_evens = 0\n",
    "\n",
    "for num in numbers:\n",
    "    if num % 2 == 0:\n",
    "        sum_of_evens += num\n",
    "\n",
    "print(f\"The sum of even numbers in the list is: {sum_of_evens}\")"
   ]
  },
  {
   "cell_type": "markdown",
   "metadata": {},
   "source": [
    "9. Create a program to find the largest and smallest numbers in a list using a for loop. <br>\n",
    "Example:<br>\n",
    "○ Input = [10, 20, 5, 8], Output = Largest = 20, Smallest = 5"
   ]
  },
  {
   "cell_type": "code",
   "execution_count": 22,
   "metadata": {},
   "outputs": [
    {
     "name": "stdout",
     "output_type": "stream",
     "text": [
      "Largest = 290, Smallest = 15\n"
     ]
    }
   ],
   "source": [
    "numbers = [15, 290, 50, 80]\n",
    "\n",
    "# Initializing largest and smallest values\n",
    "largest = numbers[0]\n",
    "smallest = numbers[0]\n",
    "\n",
    "# Loop to find the largest and smallest numbers\n",
    "for num in numbers:\n",
    "    if num > largest:\n",
    "        largest = num\n",
    "    if num < smallest:\n",
    "        smallest = num\n",
    "\n",
    "print(f\"Largest = {largest}, Smallest = {smallest}\")"
   ]
  },
  {
   "cell_type": "markdown",
   "metadata": {},
   "source": [
    "10. Write a program to calculate the sum of digits of a given number using a for loop.<br>\n",
    "Example: Input = 1234, Output = 10"
   ]
  },
  {
   "cell_type": "code",
   "execution_count": 27,
   "metadata": {},
   "outputs": [
    {
     "name": "stdout",
     "output_type": "stream",
     "text": [
      "The sum of the digits is: 23\n"
     ]
    }
   ],
   "source": [
    "number = int(input(\"Enter a number: \"))\n",
    "sum_of_digits = 0\n",
    "\n",
    "for digit in str(number):\n",
    "    sum_of_digits += int(digit)\n",
    "\n",
    "print(f\"The sum of the digits is: {sum_of_digits}\")"
   ]
  },
  {
   "cell_type": "markdown",
   "metadata": {},
   "source": [
    "11. Write a program to reverse a given string using a for loop.<br>\n",
    "Example: Input = \"python\", Output = \"nohtyP\""
   ]
  },
  {
   "cell_type": "code",
   "execution_count": 29,
   "metadata": {},
   "outputs": [
    {
     "name": "stdout",
     "output_type": "stream",
     "text": [
      "The reversed string is:  hsebarp\n"
     ]
    }
   ],
   "source": [
    "string = input(\"Enter a string: \")\n",
    "reversed_string = \"\"\n",
    "\n",
    "for char in string:\n",
    "    reversed_string = char + reversed_string\n",
    "\n",
    "print(f\"The reversed string is: {reversed_string}\")"
   ]
  },
  {
   "cell_type": "markdown",
   "metadata": {},
   "source": [
    "Section 3: Functions"
   ]
  },
  {
   "cell_type": "markdown",
   "metadata": {},
   "source": [
    "1. Factorial Function: Write a function factorial(n) that returns the factorial of the number using a for loop."
   ]
  },
  {
   "cell_type": "code",
   "execution_count": 38,
   "metadata": {},
   "outputs": [
    {
     "name": "stdout",
     "output_type": "stream",
     "text": [
      "The factorial of 25 is: 15511210043330985984000000\n"
     ]
    }
   ],
   "source": [
    "def factorial(n):\n",
    "    result = 1\n",
    "    for i in range(1, n + 1):\n",
    "        result *= i\n",
    "    return result\n",
    "\n",
    "number = int(input(\"Enter a number: \"))\n",
    "print(f\"The factorial of {number} is: {factorial(number)}\")"
   ]
  },
  {
   "cell_type": "markdown",
   "metadata": {},
   "source": [
    "2. Prime Check Function: Create a function is_prime(n) to check whether a number is prime.<br>\n",
    "Example:<br>\n",
    "○ Input: 7<br>\n",
    "○ Output: True"
   ]
  },
  {
   "cell_type": "code",
   "execution_count": 39,
   "metadata": {},
   "outputs": [
    {
     "name": "stdout",
     "output_type": "stream",
     "text": [
      "Is 10 prime? False\n"
     ]
    }
   ],
   "source": [
    "def is_prime(n):\n",
    "    if n <= 1:\n",
    "        return False\n",
    "    for i in range(2, int(n**0.5) + 1):\n",
    "        if n % i == 0:\n",
    "            return False\n",
    "    return True\n",
    "\n",
    "number = int(input(\"Enter a number: \"))\n",
    "print(f\"Is {number} prime? {is_prime(number)}\")"
   ]
  },
  {
   "cell_type": "markdown",
   "metadata": {},
   "source": [
    "3.Find Maximum in List: write a function find_max(1st)to find and return the maximum value in the list.\n",
    "Example:<br>\n",
    "○ Input: [1, 3, 7, 8]<br>\n",
    "○ Output: 7"
   ]
  },
  {
   "cell_type": "code",
   "execution_count": 41,
   "metadata": {},
   "outputs": [
    {
     "name": "stdout",
     "output_type": "stream",
     "text": [
      "The maximum value in the list is: 48\n"
     ]
    }
   ],
   "source": [
    "def find_max(lst):\n",
    "    max_value = lst[0]\n",
    "    for num in lst:\n",
    "        if num > max_value:\n",
    "            max_value = num\n",
    "    return max_value\n",
    "\n",
    "numbers = [5, 9, 27, 48]\n",
    "print(f\"The maximum value in the list is: {find_max(numbers)}\")"
   ]
  },
  {
   "cell_type": "markdown",
   "metadata": {},
   "source": [
    "4. Write a function palindrome_check(string) that returns True if the given string is a palindrome, otherwise False. <br>\n",
    "Example: Input: \"radar\", Output: \"True\" "
   ]
  },
  {
   "cell_type": "code",
   "execution_count": 44,
   "metadata": {},
   "outputs": [
    {
     "name": "stdout",
     "output_type": "stream",
     "text": [
      "Is the string a palindrome? False\n"
     ]
    }
   ],
   "source": [
    "def palindrome_check(string):\n",
    "    return string == string[::-1]\n",
    "\n",
    "word = input(\"Enter a string: \")\n",
    "print(f\"Is the string a palindrome? {palindrome_check(word)}\")"
   ]
  },
  {
   "cell_type": "markdown",
   "metadata": {},
   "source": [
    "5. Write a function sun_of_squares(n) that returns the sum of squares of the first n natural numbers."
   ]
  },
  {
   "cell_type": "code",
   "execution_count": 2,
   "metadata": {},
   "outputs": [
    {
     "name": "stdout",
     "output_type": "stream",
     "text": [
      "22140\n"
     ]
    }
   ],
   "source": [
    "def sum_of_squares(n):\n",
    "    return sum(i**2 for i in range(1, n+1))\n",
    "\n",
    "print(sum_of_squares(40))"
   ]
  },
  {
   "cell_type": "markdown",
   "metadata": {},
   "source": [
    "6. Write a function sun_of_squares(n) that returns the sum of squares of the first n natural numbers.\n",
    "Example: Input = 3, Output = 1^2 + 2^2 + 3^2 = 14"
   ]
  },
  {
   "cell_type": "code",
   "execution_count": 4,
   "metadata": {},
   "outputs": [
    {
     "name": "stdout",
     "output_type": "stream",
     "text": [
      "2109\n"
     ]
    }
   ],
   "source": [
    "def sum_of_squares(n):\n",
    "    return sum(i**2 for i in range(1, n+1))\n",
    "\n",
    "print(sum_of_squares(18))"
   ]
  },
  {
   "cell_type": "markdown",
   "metadata": {},
   "source": [
    "Section 4: Classes "
   ]
  },
  {
   "cell_type": "markdown",
   "metadata": {},
   "source": [
    "1. Rectangle class: Define a class Recaangle with:<br>\n",
    "<br>\n",
    "○ Two attributes: length and width. <br>\n",
    "○ A method area() tio calculate the area.<br>\n",
    "○ A method parimeter() to calculate the oerimeter."
   ]
  },
  {
   "cell_type": "code",
   "execution_count": 8,
   "metadata": {},
   "outputs": [
    {
     "name": "stdout",
     "output_type": "stream",
     "text": [
      "Area: 429\n",
      "Perimeter: 92\n"
     ]
    }
   ],
   "source": [
    "class Rectangle:\n",
    "    def __init__(self, length, width):\n",
    "        self.length = length\n",
    "        self.width = width\n",
    "    \n",
    "    def area(self):\n",
    "        return self.length * self.width\n",
    "    \n",
    "    def perimeter(self):\n",
    "        return 2 * (self.length + self.width)\n",
    "rect = Rectangle(13, 33)\n",
    "\n",
    "print(f\"Area: {rect.area()}\")          \n",
    "print(f\"Perimeter: {rect.perimeter()}\") "
   ]
  },
  {
   "cell_type": "markdown",
   "metadata": {},
   "source": [
    "2. Student class: Create a class student with:<br>\n",
    "<br>\n",
    "○ Attributes: name, roll_number, and marks. <br>\n",
    "○ A method display_datails() to print the student's details.<br>\n",
    "○ A method is_passed() that returns True if marks >= 40, else False."
   ]
  },
  {
   "cell_type": "code",
   "execution_count": 9,
   "metadata": {},
   "outputs": [
    {
     "name": "stdout",
     "output_type": "stream",
     "text": [
      "Name: Prabesh Kafle \n",
      "Roll Number: 30\n",
      "Marks: 78\n",
      "Passed: True\n"
     ]
    }
   ],
   "source": [
    "class Student:\n",
    "    def __init__(self, name, roll_number, marks):\n",
    "        self.name = name\n",
    "        self.roll_number = roll_number\n",
    "        self.marks = marks\n",
    "    \n",
    "    def display_details(self):\n",
    "        print(f\"Name: {self.name}\")\n",
    "        print(f\"Roll Number: {self.roll_number}\")\n",
    "        print(f\"Marks: {self.marks}\")\n",
    "    \n",
    "    def is_passed(self):\n",
    "        return self.marks >= 40\n",
    "\n",
    "student = Student(\"Prabesh Kafle \", 30, 78)\n",
    "student.display_details()\n",
    "print(f\"Passed: {student.is_passed()}\")  "
   ]
  },
  {
   "cell_type": "markdown",
   "metadata": {},
   "source": [
    "3. Define a class Circle with:<br>\n",
    "<br>\n",
    "○ Attributes: radius. <br>\n",
    "○ Method: area() to calculate the area, circumference() to calculate the circumference."
   ]
  },
  {
   "cell_type": "code",
   "execution_count": 12,
   "metadata": {},
   "outputs": [
    {
     "name": "stdout",
     "output_type": "stream",
     "text": [
      "Area: 153.909\n",
      "Circumference: 43.974000000000004\n"
     ]
    }
   ],
   "source": [
    "class Circle:\n",
    "    def __init__(self, radius):\n",
    "        self.radius = radius\n",
    "    \n",
    "    def area(self):\n",
    "        return 3.141 * (self.radius ** 2)\n",
    "    \n",
    "    def circumference(self):\n",
    "        return 2 * 3.141 * self.radius\n",
    "\n",
    "circle = Circle(7)\n",
    "print(f\"Area: {circle.area()}\")               \n",
    "print(f\"Circumference: {circle.circumference()}\") "
   ]
  },
  {
   "cell_type": "markdown",
   "metadata": {},
   "source": [
    "4. Create a class BankAccount with:<br>\n",
    "<br>\n",
    "○ Attributes: account_number, account_holder, balance.  <br>\n",
    "○ Methods: \n",
    "<br>- deposit(amount) to add moneyto the account.\n",
    "<br>- withdraw(amount) to subtract money (if sufficient balance is available).\n",
    "<br>- display_balance() to print the current balance."
   ]
  },
  {
   "cell_type": "code",
   "execution_count": 5,
   "metadata": {},
   "outputs": [
    {
     "name": "stdout",
     "output_type": "stream",
     "text": [
      "Deposited 20000. New balance: 21000\n",
      "Withdrew 15000. New balance: 6000\n",
      "Current balance: 6000\n"
     ]
    }
   ],
   "source": [
    "class BankAccount:\n",
    "    def __init__(self, account_number, account_holder, balance=0):\n",
    "        self.account_number = account_number\n",
    "        self.account_holder = account_holder\n",
    "        self.balance = balance\n",
    "    \n",
    "    def deposit(self, amount):\n",
    "        if amount > 0:\n",
    "            self.balance += amount\n",
    "            print(f\"Deposited {amount}. New balance: {self.balance}\")\n",
    "        else:\n",
    "            print(\"Deposit amount must be greater than 0.\")\n",
    "    \n",
    "    def withdraw(self, amount):\n",
    "        if amount > 0:\n",
    "            if self.balance >= amount:\n",
    "                self.balance -= amount\n",
    "                print(f\"Withdrew {amount}. New balance: {self.balance}\")\n",
    "            else:\n",
    "                print(\"Insufficient balance.\")\n",
    "        else:\n",
    "            print(\"Withdrawal amount must be greater than 0.\")\n",
    "    \n",
    "    def display_balance(self):\n",
    "        print(f\"Current balance: {self.balance}\")\n",
    "\n",
    "account = BankAccount(123456, \"Prabesh\", 1000)\n",
    "account.deposit(20000)    \n",
    "account.withdraw(15000)       \n",
    "account.display_balance()   "
   ]
  },
  {
   "cell_type": "markdown",
   "metadata": {},
   "source": [
    "5. A class Book with:<br>\n",
    "<br>\n",
    "○ Attributes: title, author, price.  <br>\n",
    "○ Methods: \n",
    "<br>- apply_discount(discount) to reduce the price by a given percentage.\n",
    "<br>- display_details() to print the book details."
   ]
  },
  {
   "cell_type": "code",
   "execution_count": 18,
   "metadata": {},
   "outputs": [
    {
     "name": "stdout",
     "output_type": "stream",
     "text": [
      "Price after 20% discount: 1100.0\n",
      "Title: To Kill a Mockingbird\n",
      "Author:  Harper Lee\n",
      "Price: 1100.0\n"
     ]
    }
   ],
   "source": [
    "class Book:\n",
    "    def __init__(self, title, author, price):\n",
    "        self.title = title\n",
    "        self.author = author\n",
    "        self.price = price\n",
    "    \n",
    "    def apply_discount(self, discount):\n",
    "        if 0 <= discount <= 100:\n",
    "            discount_amount = (self.price * discount) / 100\n",
    "            self.price -= discount_amount\n",
    "            print(f\"Price after {discount}% discount: {self.price}\")\n",
    "        else:\n",
    "            print(\"Invalid discount percentage. Please provide a value between 0 and 100.\")\n",
    "    \n",
    "    def display_details(self):\n",
    "        print(f\"Title: {self.title}\")\n",
    "        print(f\"Author: {self.author}\")\n",
    "        print(f\"Price: {self.price}\")\n",
    "\n",
    "book = Book(\"To Kill a Mockingbird\", \" Harper Lee\", 1375)\n",
    "book.apply_discount(20)    \n",
    "book.display_details()     "
   ]
  },
  {
   "cell_type": "markdown",
   "metadata": {},
   "source": [
    "6. Create a class Calculator with:<br>\n",
    "<br>\n",
    "○ A method add(a, b) to add two numbers. <br>\n",
    "○ A method subtract (a,b) to subtract two numbers.<br>\n",
    "○  A method multiply(a, b) to multiply two numbers. <br>\n",
    "○ A method devide (a,b) to devide two numbers (handle division by zero gracefully)."
   ]
  },
  {
   "cell_type": "code",
   "execution_count": 20,
   "metadata": {},
   "outputs": [
    {
     "name": "stdout",
     "output_type": "stream",
     "text": [
      "Addition: 185\n",
      "Subtraction: 150\n",
      "Multiplication: 63\n",
      "Division: 40.0\n",
      "Division by zero: Error: Division by zero is not allowed.\n"
     ]
    }
   ],
   "source": [
    "class Calculator:\n",
    "    def add(self, a, b):\n",
    "        return a + b\n",
    "    \n",
    "    def subtract(self, a, b):\n",
    "        return a - b\n",
    "    \n",
    "    def multiply(self, a, b):\n",
    "        return a * b\n",
    "    \n",
    "    def divide(self, a, b):\n",
    "        if b != 0:\n",
    "            return a / b\n",
    "        else:\n",
    "            return \"Error: Division by zero is not allowed.\"\n",
    "        \n",
    "calc = Calculator()\n",
    "print(f\"Addition: {calc.add(100, 85)}\")         \n",
    "print(f\"Subtraction: {calc.subtract(200, 50)}\") \n",
    "print(f\"Multiplication: {calc.multiply(7, 9)}\")\n",
    "print(f\"Division: {calc.divide(200, 5)}\")      \n",
    "print(f\"Division by zero: {calc.divide(20, 0)}\") "
   ]
  },
  {
   "cell_type": "markdown",
   "metadata": {},
   "source": [
    "7. Create a class Person with:<br>\n",
    "<br>\n",
    "○ Attributes: name, age, gender. <br>\n",
    "○ Method introduce() to print a message like::\"Hello, my name is [name], I am [age] years old, and I am a [gender].<br>\n",
    "○  Create a subclass Employee that adds:. \n",
    "<br>- Attribute: job_title.\n",
    "<br>- Override introduce() to introduce the job title.<br>"
   ]
  },
  {
   "cell_type": "code",
   "execution_count": 2,
   "metadata": {},
   "outputs": [
    {
     "name": "stdout",
     "output_type": "stream",
     "text": [
      "Hello, my name is Prabesh, I am 19 years old, and I am a male.\n",
      "Hello, my name is Awiskar, I am 18 years old, I am a male, and I work as a Data Science.\n"
     ]
    }
   ],
   "source": [
    "class Person:\n",
    "    def __init__(self, name, age, gender):\n",
    "        self.name = name\n",
    "        self.age = age\n",
    "        self.gender = gender\n",
    "\n",
    "    def introduce(self):\n",
    "        print(f\"Hello, my name is {self.name}, I am {self.age} years old, and I am a {self.gender}.\")\n",
    "\n",
    "class Employee(Person):\n",
    "    def __init__(self, name, age, gender, job_title):\n",
    "        # Call the constructor of the Person class\n",
    "        super().__init__(name, age, gender)\n",
    "        self.job_title = job_title\n",
    "\n",
    "    def introduce(self):\n",
    "        print(f\"Hello, my name is {self.name}, I am {self.age} years old, I am a {self.gender}, and I work as a {self.job_title}.\")\n",
    "\n",
    "person = Person(\"Prabesh\", 19, \"male\")\n",
    "person.introduce()\n",
    "\n",
    "employee = Employee(\"Awiskar\", 18, \"male\", \"Data Science\")\n",
    "employee.introduce()"
   ]
  },
  {
   "cell_type": "markdown",
   "metadata": {},
   "source": [
    "Section 4: File Handling "
   ]
  },
  {
   "cell_type": "markdown",
   "metadata": {},
   "source": [
    "1.File Creation and Writing: Write a Python script to:<br>\n",
    "○ Create a file named data.txt. <br>\n",
    "○ Write the numbers from 1 to 10 (each on a new line) to the file.<br>\n",
    "○ Read the file amd print its contents. "
   ]
  },
  {
   "cell_type": "code",
   "execution_count": 3,
   "metadata": {},
   "outputs": [
    {
     "name": "stdout",
     "output_type": "stream",
     "text": [
      "1\n",
      "2\n",
      "3\n",
      "4\n",
      "5\n",
      "6\n",
      "7\n",
      "8\n",
      "9\n",
      "10\n",
      "\n"
     ]
    }
   ],
   "source": [
    "with open('data.txt', 'w') as file:\n",
    "    for number in range(1, 11):\n",
    "        file.write(f\"{number}\\n\")\n",
    "\n",
    "with open('data.txt', 'r') as file:\n",
    "    contents = file.read()\n",
    "    print(contents)"
   ]
  },
  {
   "cell_type": "markdown",
   "metadata": {},
   "source": [
    "2. Word Count in File: Write a program that reads a file named sample.txt, counts the number of words in it, and prints the reasult."
   ]
  },
  {
   "cell_type": "code",
   "execution_count": 6,
   "metadata": {},
   "outputs": [
    {
     "name": "stdout",
     "output_type": "stream",
     "text": [
      "The file 'sample.txt' was not found.\n"
     ]
    }
   ],
   "source": [
    "def count_words_in_file(filename):\n",
    "    try:\n",
    "        with open(filename, 'r') as file:\n",
    "            content = file.read()\n",
    "            words = content.split()\n",
    "            word_count = len(words)\n",
    "            print(f\"The number of words in '{filename}' is: {word_count}\")\n",
    "\n",
    "    except FileNotFoundError:\n",
    "        print(f\"The file '{filename}' was not found.\")\n",
    "        \n",
    "count_words_in_file('sample.txt')"
   ]
  },
  {
   "cell_type": "markdown",
   "metadata": {},
   "source": [
    "Section 5: Error Handling "
   ]
  },
  {
   "cell_type": "markdown",
   "metadata": {},
   "source": [
    "1. Division With Error Handling: Write a program that takes two numbers as input and divides the first number by the second.<br>\n",
    "○ Use try and except to handle the division by zero errrr. "
   ]
  },
  {
   "cell_type": "code",
   "execution_count": 7,
   "metadata": {},
   "outputs": [
    {
     "name": "stdout",
     "output_type": "stream",
     "text": [
      "The result of 5.0 divided by 8.0 is: 0.625\n"
     ]
    }
   ],
   "source": [
    "def divide_numbers():\n",
    "    try:\n",
    "        num1 = float(input(\"Enter the first number: \"))\n",
    "        num2 = float(input(\"Enter the second number: \"))\n",
    "        result = num1 / num2\n",
    "        print(f\"The result of {num1} divided by {num2} is: {result}\")\n",
    "    \n",
    "    except ZeroDivisionError:\n",
    "        print(\"Error: You cannot divide by zero!\")\n",
    "    \n",
    "    except ValueError:\n",
    "        print(\"Error: Please enter valid numbers.\")\n",
    "divide_numbers()"
   ]
  },
  {
   "cell_type": "markdown",
   "metadata": {},
   "source": [
    "2. Intiger Input Validation: Create a program that asks the user to input an intiger.<br>\n",
    "○ Use try, except, and else to handle invalid input. <br>\n",
    "Example :<br>\n",
    "○ Input: abc<br>\n",
    "○ Output: \"Invalid input, please input an integer\". "
   ]
  },
  {
   "cell_type": "code",
   "execution_count": 13,
   "metadata": {},
   "outputs": [
    {
     "name": "stdout",
     "output_type": "stream",
     "text": [
      "Thank you!!! You entered the integer: 108\n"
     ]
    }
   ],
   "source": [
    "def get_integer_input():\n",
    "    try:\n",
    "        user_input = input(\"Please input an integer: \")\n",
    "        number = int(user_input)\n",
    "    \n",
    "    except ValueError:\n",
    "        print(\"Invalid input, please input an integer.\")\n",
    "    else:\n",
    "        print(f\"Thank you!!! You entered the integer: {number}\")\n",
    "get_integer_input()"
   ]
  },
  {
   "cell_type": "markdown",
   "metadata": {},
   "source": [
    "3. Files Not Found Error Handling: Write a script that:<br>\n",
    "○ Open a file named unknown.txt.<br>\n",
    "○ Handles the FileNotFoundError gracefully and prints an appropriate message. "
   ]
  },
  {
   "cell_type": "code",
   "execution_count": 1,
   "metadata": {},
   "outputs": [
    {
     "name": "stdout",
     "output_type": "stream",
     "text": [
      "Error: The file 'unknown.txt' was not found.\n"
     ]
    }
   ],
   "source": [
    "def open_file():\n",
    "    try:\n",
    "        with open('unknown.txt', 'r') as file:\n",
    "            content = file.read()\n",
    "            print(content)\n",
    "    \n",
    "    except FileNotFoundError:\n",
    "        print(\"Error: The file 'unknown.txt' was not found.\")\n",
    "open_file()"
   ]
  },
  {
   "cell_type": "markdown",
   "metadata": {},
   "source": [
    "Project of Python "
   ]
  },
  {
   "cell_type": "markdown",
   "metadata": {},
   "source": [
    "1. Guessing Game Code "
   ]
  },
  {
   "cell_type": "code",
   "execution_count": 15,
   "metadata": {},
   "outputs": [
    {
     "name": "stdout",
     "output_type": "stream",
     "text": [
      "Welcome to the Guessing Game!\n",
      "Too low! Try again.\n",
      "Too high! Try again.\n",
      "Too low! Try again.\n",
      "Too high! Try again.\n",
      "Too high! Try again.\n",
      "Too low! Try again.\n",
      "Too low! Try again.\n",
      "Too low! Try again.\n",
      "Too low! Try again.\n",
      "Too high! Try again.\n",
      "Sorry, you've run out of attempts. The number was 69.\n"
     ]
    }
   ],
   "source": [
    "import random  \n",
    "\n",
    "def guessing_game():  \n",
    "    print(\"Welcome to the Guessing Game!\")  \n",
    "    number_to_guess = random.randint(1, 100)  \n",
    "    attempts = 0  \n",
    "    max_attempts = 10  \n",
    "\n",
    "    while attempts < max_attempts:  \n",
    "        guess = input(f\"Attempt {attempts + 1}/{max_attempts}: Guess a number between 1 and 100: \")  \n",
    "        \n",
    "        try:  \n",
    "            guess = int(guess)  \n",
    "        except ValueError:  \n",
    "            print(\"Please enter a valid number.\")  \n",
    "            continue  \n",
    "\n",
    "        attempts += 1  \n",
    "\n",
    "        if guess < number_to_guess:  \n",
    "            print(\"Too low! Try again.\")  \n",
    "        elif guess > number_to_guess:  \n",
    "            print(\"Too high! Try again.\")  \n",
    "        else:  \n",
    "            print(f\"Congratulations! You've guessed the number {number_to_guess} in {attempts} attempts!\")  \n",
    "            break  \n",
    "    else:  \n",
    "        print(f\"Sorry, you've run out of attempts. The number was {number_to_guess}.\")  \n",
    "\n",
    "if __name__ == \"__main__\":  \n",
    "    guessing_game()  "
   ]
  },
  {
   "cell_type": "markdown",
   "metadata": {},
   "source": [
    "2. Shooting Game "
   ]
  },
  {
   "cell_type": "code",
   "execution_count": null,
   "metadata": {},
   "outputs": [
    {
     "name": "stdout",
     "output_type": "stream",
     "text": [
      "pygame 2.6.1 (SDL 2.28.4, Python 3.13.0)\n",
      "Hello from the pygame community. https://www.pygame.org/contribute.html\n"
     ]
    }
   ],
   "source": [
    "import pygame  \n",
    "import random  \n",
    "import sys  \n",
    "pygame.init()  \n",
    "WIDTH, HEIGHT = 800, 600  \n",
    "FPS = 60  \n",
    "WHITE = (255, 255, 255)  \n",
    "BLACK = (0, 0, 0)  \n",
    "BLUE = (0, 0, 255)  \n",
    "RED = (255, 0, 0)  \n",
    "screen = pygame.display.set_mode((WIDTH, HEIGHT))  \n",
    "pygame.display.set_caption(\"Shooting Game\")  \n",
    "player_img = pygame.Surface((50, 30))  \n",
    "player_img.fill(BLUE)  \n",
    "enemy_img = pygame.Surface((50, 30))  \n",
    "enemy_img.fill(RED)  \n",
    "bullet_img = pygame.Surface((5, 10))  \n",
    "bullet_img.fill(WHITE)  \n",
    " \n",
    "class Player:  \n",
    "    def __init__(self):  \n",
    "        self.image = player_img  \n",
    "        self.rect = self.image.get_rect(center=(WIDTH // 2, HEIGHT - 50))  \n",
    "        self.speed = 10  \n",
    "\n",
    "    def move(self, dx):  \n",
    "        if 0 < self.rect.x + dx < WIDTH - self.rect.width:  \n",
    "            self.rect.x += dx  \n",
    "\n",
    "    def draw(self, screen):  \n",
    "        screen.blit(self.image, self.rect)  \n",
    "\n",
    "class Enemy:  \n",
    "    def __init__(self):  \n",
    "        self.image = enemy_img  \n",
    "        self.rect = self.image.get_rect(center=(random.randint(0, WIDTH - 50), 0))  \n",
    "        self.speed = 5  \n",
    "\n",
    "    def move(self):  \n",
    "        self.rect.y += self.speed  \n",
    "\n",
    "    def draw(self, screen):  \n",
    "        screen.blit(self.image, self.rect)  \n",
    "\n",
    "class Bullet:  \n",
    "    def __init__(self, x, y):  \n",
    "        self.image = bullet_img  \n",
    "        self.rect = self.image.get_rect(center=(x, y))  \n",
    "        self.speed = -10  \n",
    "\n",
    "    def move(self):  \n",
    "        self.rect.y += self.speed  \n",
    "\n",
    "    def draw(self, screen):  \n",
    "        screen.blit(self.image, self.rect)  \n",
    " \n",
    "def main():  \n",
    "    player = Player()  \n",
    "    enemies = []  \n",
    "    bullets = []  \n",
    "    clock = pygame.time.Clock()  \n",
    "    score = 0  \n",
    " \n",
    "    for _ in range(5):  \n",
    "        enemies.append(Enemy())  \n",
    "\n",
    "    while True:  \n",
    "        for event in pygame.event.get():  \n",
    "            if event.type == pygame.QUIT:  \n",
    "                pygame.quit()  \n",
    "                sys.exit()  \n",
    "\n",
    "        keys = pygame.key.get_pressed()  \n",
    "        if keys[pygame.K_LEFT]:  \n",
    "            player.move(-player.speed)  \n",
    "        if keys[pygame.K_RIGHT]:  \n",
    "            player.move(player.speed)  \n",
    "        if keys[pygame.K_SPACE]:  \n",
    "            bullets.append(Bullet(player.rect.centerx, player.rect.top))  \n",
    "\n",
    "        for enemy in enemies:  \n",
    "            enemy.move()  \n",
    "            if enemy.rect.y > HEIGHT:  \n",
    "                enemies.remove(enemy)  \n",
    "                enemies.append(Enemy())  # Respawn enemy  \n",
    "\n",
    "        for bullet in bullets:  \n",
    "            bullet.move()  \n",
    "            if bullet.rect.y < 0:  \n",
    "                bullets.remove(bullet)  \n",
    "\n",
    "        for enemy in enemies:  \n",
    "            for bullet in bullets:  \n",
    "                if enemy.rect.colliderect(bullet.rect):  \n",
    "                    bullets.remove(bullet)  \n",
    "                    enemies.remove(enemy)  \n",
    "                    enemies.append(Enemy())  # Respawn enemy  \n",
    "                    score += 1  \n",
    "                    break  \n",
    "\n",
    "        screen.fill(BLACK)  \n",
    "        player.draw(screen)  \n",
    "        for enemy in enemies:  \n",
    "            enemy.draw(screen)  \n",
    "        for bullet in bullets:  \n",
    "            bullet.draw(screen)  \n",
    " \n",
    "        font = pygame.font.SysFont(None, 36)  \n",
    "        score_text = font.render(f'Score: {score}', True, WHITE)  \n",
    "        screen.blit(score_text, (10, 10))  \n",
    "\n",
    "        pygame.display.flip()  \n",
    "        clock.tick(FPS)  \n",
    "\n",
    "if __name__ == \"__main__\":  \n",
    "    main()  "
   ]
  }
 ],
 "metadata": {
  "kernelspec": {
   "display_name": "Python 3",
   "language": "python",
   "name": "python3"
  },
  "language_info": {
   "codemirror_mode": {
    "name": "ipython",
    "version": 3
   },
   "file_extension": ".py",
   "mimetype": "text/x-python",
   "name": "python",
   "nbconvert_exporter": "python",
   "pygments_lexer": "ipython3",
   "version": "3.13.0"
  }
 },
 "nbformat": 4,
 "nbformat_minor": 2
}
